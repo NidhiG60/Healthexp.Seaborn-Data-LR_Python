{
 "cells": [
  {
   "cell_type": "code",
   "execution_count": 1,
   "id": "762ce23b",
   "metadata": {},
   "outputs": [],
   "source": [
    "import pandas as pd\n",
    "import seaborn as sns\n",
    "from sklearn.model_selection import train_test_split"
   ]
  },
  {
   "cell_type": "code",
   "execution_count": 2,
   "id": "2963e323",
   "metadata": {},
   "outputs": [],
   "source": [
    "data = sns.load_dataset('healthexp')"
   ]
  },
  {
   "cell_type": "code",
   "execution_count": 3,
   "id": "dc9f9527",
   "metadata": {},
   "outputs": [
    {
     "name": "stdout",
     "output_type": "stream",
     "text": [
      "<class 'pandas.core.frame.DataFrame'>\n",
      "RangeIndex: 274 entries, 0 to 273\n",
      "Data columns (total 4 columns):\n",
      " #   Column           Non-Null Count  Dtype  \n",
      "---  ------           --------------  -----  \n",
      " 0   Year             274 non-null    int64  \n",
      " 1   Country          274 non-null    object \n",
      " 2   Spending_USD     274 non-null    float64\n",
      " 3   Life_Expectancy  274 non-null    float64\n",
      "dtypes: float64(2), int64(1), object(1)\n",
      "memory usage: 8.7+ KB\n"
     ]
    }
   ],
   "source": [
    "data.info()"
   ]
  },
  {
   "cell_type": "code",
   "execution_count": 4,
   "id": "8d67d4c0",
   "metadata": {},
   "outputs": [
    {
     "name": "stdout",
     "output_type": "stream",
     "text": [
      "The country with the highest life expectancy is Japan with a life expectancy of 84.7\n"
     ]
    }
   ],
   "source": [
    "max_life_expectancy = data['Life_Expectancy'].max()\n",
    "Country = data[data['Life_Expectancy'] == max_life_expectancy]['Country'].values[0]\n",
    "print(f'The country with the highest life expectancy is {Country} with a life expectancy of {max_life_expectancy}')"
   ]
  },
  {
   "cell_type": "code",
   "execution_count": 5,
   "id": "334c0d4e",
   "metadata": {},
   "outputs": [
    {
     "name": "stdout",
     "output_type": "stream",
     "text": [
      "The top 5 countries with the highest life expectancy rates are:\n",
      "273. Japan with a life expectancy of 84.7\n",
      "267. Japan with a life expectancy of 84.4\n",
      "261. Japan with a life expectancy of 84.3\n",
      "255. Japan with a life expectancy of 84.2\n",
      "249. Japan with a life expectancy of 84.1\n"
     ]
    }
   ],
   "source": [
    "top_5 = data.sort_values(by='Life_Expectancy', ascending=False).head(5)\n",
    "\n",
    "print('The top 5 countries with the highest life expectancy rates are:')\n",
    "for i, row in top_5.iterrows():\n",
    "    print(f'{i+1}. {row[\"Country\"]} with a life expectancy of {row[\"Life_Expectancy\"]}')"
   ]
  },
  {
   "cell_type": "code",
   "execution_count": 6,
   "id": "d1aa7eb5",
   "metadata": {},
   "outputs": [
    {
     "name": "stdout",
     "output_type": "stream",
     "text": [
      "The country with the highest spending is USA with a spending of USD 11859.179\n"
     ]
    }
   ],
   "source": [
    "max_spending = data['Spending_USD'].max()\n",
    "Country = data[data['Spending_USD'] == max_spending]['Country'].values[0]\n",
    "print(f'The country with the highest spending is {Country} with a spending of USD {max_spending}')"
   ]
  },
  {
   "cell_type": "code",
   "execution_count": 7,
   "id": "7fffa290",
   "metadata": {},
   "outputs": [
    {
     "data": {
      "text/html": [
       "<div>\n",
       "<style scoped>\n",
       "    .dataframe tbody tr th:only-of-type {\n",
       "        vertical-align: middle;\n",
       "    }\n",
       "\n",
       "    .dataframe tbody tr th {\n",
       "        vertical-align: top;\n",
       "    }\n",
       "\n",
       "    .dataframe thead th {\n",
       "        text-align: right;\n",
       "    }\n",
       "</style>\n",
       "<table border=\"1\" class=\"dataframe\">\n",
       "  <thead>\n",
       "    <tr style=\"text-align: right;\">\n",
       "      <th></th>\n",
       "      <th>Spending_USD</th>\n",
       "      <th>Life_Expectancy</th>\n",
       "    </tr>\n",
       "  </thead>\n",
       "  <tbody>\n",
       "    <tr>\n",
       "      <th>0</th>\n",
       "      <td>252.311</td>\n",
       "      <td>70.6</td>\n",
       "    </tr>\n",
       "    <tr>\n",
       "      <th>1</th>\n",
       "      <td>192.143</td>\n",
       "      <td>72.2</td>\n",
       "    </tr>\n",
       "    <tr>\n",
       "      <th>2</th>\n",
       "      <td>123.993</td>\n",
       "      <td>71.9</td>\n",
       "    </tr>\n",
       "    <tr>\n",
       "      <th>3</th>\n",
       "      <td>150.437</td>\n",
       "      <td>72.0</td>\n",
       "    </tr>\n",
       "    <tr>\n",
       "      <th>4</th>\n",
       "      <td>326.961</td>\n",
       "      <td>70.9</td>\n",
       "    </tr>\n",
       "  </tbody>\n",
       "</table>\n",
       "</div>"
      ],
      "text/plain": [
       "   Spending_USD  Life_Expectancy\n",
       "0       252.311             70.6\n",
       "1       192.143             72.2\n",
       "2       123.993             71.9\n",
       "3       150.437             72.0\n",
       "4       326.961             70.9"
      ]
     },
     "execution_count": 7,
     "metadata": {},
     "output_type": "execute_result"
    }
   ],
   "source": [
    "df = data[['Spending_USD', 'Life_Expectancy']]\n",
    "df.head()"
   ]
  },
  {
   "cell_type": "code",
   "execution_count": 8,
   "id": "0cfe3fb1",
   "metadata": {},
   "outputs": [
    {
     "data": {
      "text/plain": [
       "Year               0\n",
       "Country            0\n",
       "Spending_USD       0\n",
       "Life_Expectancy    0\n",
       "dtype: int64"
      ]
     },
     "execution_count": 8,
     "metadata": {},
     "output_type": "execute_result"
    }
   ],
   "source": [
    "data.isnull().sum()"
   ]
  },
  {
   "cell_type": "code",
   "execution_count": 9,
   "id": "4fab8742",
   "metadata": {},
   "outputs": [
    {
     "name": "stdout",
     "output_type": "stream",
     "text": [
      "(191, 4)\n",
      "(83, 4)\n"
     ]
    }
   ],
   "source": [
    "train, test = train_test_split(data,test_size=0.3)\n",
    "print(train.shape)\n",
    "print(test.shape)"
   ]
  },
  {
   "cell_type": "code",
   "execution_count": 10,
   "id": "aee1e5c8",
   "metadata": {},
   "outputs": [],
   "source": [
    "x = train['Spending_USD'].values.reshape(-1,1)\n",
    "y = train['Life_Expectancy'].values.reshape(-1,1)"
   ]
  },
  {
   "cell_type": "code",
   "execution_count": 11,
   "id": "287e1d18",
   "metadata": {},
   "outputs": [
    {
     "name": "stdout",
     "output_type": "stream",
     "text": [
      "HE Model Training is Done\n",
      "LinearRegression()\n"
     ]
    }
   ],
   "source": [
    "from sklearn.linear_model import LinearRegression\n",
    "HEmodel = LinearRegression()\n",
    "print('HE Model Training is Done')\n",
    "train_HEmodel = HEmodel.fit(x,y)\n",
    "print(HEmodel)"
   ]
  },
  {
   "cell_type": "code",
   "execution_count": 12,
   "id": "ad84605a",
   "metadata": {},
   "outputs": [
    {
     "name": "stdout",
     "output_type": "stream",
     "text": [
      "[[0.00090146]]\n",
      "[75.33418034]\n"
     ]
    }
   ],
   "source": [
    "print(HEmodel.coef_)  \n",
    "print(HEmodel.intercept_)"
   ]
  },
  {
   "cell_type": "code",
   "execution_count": 13,
   "id": "ab21cc7d",
   "metadata": {},
   "outputs": [
    {
     "name": "stdout",
     "output_type": "stream",
     "text": [
      "The Life expentacy of spending 10000 USD is 84 years.\n"
     ]
    }
   ],
   "source": [
    "x = 10000\n",
    "y = round((HEmodel.coef_[0][0])*x + (HEmodel.intercept_[0]))\n",
    "print(\"The Life expentacy of spending {} USD is {} years.\".format(x,y))"
   ]
  },
  {
   "cell_type": "code",
   "execution_count": 14,
   "id": "902e43e9",
   "metadata": {
    "scrolled": true
   },
   "outputs": [
    {
     "data": {
      "text/plain": [
       "array([[85.11997845],\n",
       "       [77.69987158],\n",
       "       [79.51269742],\n",
       "       [77.38793178],\n",
       "       [79.42370183],\n",
       "       [77.54328824],\n",
       "       [76.35735377],\n",
       "       [77.11561199],\n",
       "       [77.28985039],\n",
       "       [80.01249847],\n",
       "       [78.89122111],\n",
       "       [78.72270426],\n",
       "       [76.00665126],\n",
       "       [80.26373225],\n",
       "       [77.45183708],\n",
       "       [75.93344922],\n",
       "       [80.119443  ],\n",
       "       [78.05809136],\n",
       "       [78.640402  ],\n",
       "       [76.73868244],\n",
       "       [78.04700071],\n",
       "       [76.82261363],\n",
       "       [77.19764561],\n",
       "       [84.39065795],\n",
       "       [77.10301861],\n",
       "       [77.41085227],\n",
       "       [77.94438319],\n",
       "       [78.71535918],\n",
       "       [76.46408195],\n",
       "       [75.50130173],\n",
       "       [79.08328135],\n",
       "       [76.58406157],\n",
       "       [78.19107362],\n",
       "       [79.21789074],\n",
       "       [75.68133111],\n",
       "       [76.96150135],\n",
       "       [84.09423766],\n",
       "       [75.62892212],\n",
       "       [77.75687711],\n",
       "       [76.99988274],\n",
       "       [76.64950746],\n",
       "       [75.97859426],\n",
       "       [77.75902799],\n",
       "       [80.12680431],\n",
       "       [78.48536556],\n",
       "       [78.56748212],\n",
       "       [79.42392629],\n",
       "       [76.55786789],\n",
       "       [80.10828204],\n",
       "       [77.30718093],\n",
       "       [79.45085106],\n",
       "       [75.95442796],\n",
       "       [77.22002883],\n",
       "       [75.74247884],\n",
       "       [80.99699843],\n",
       "       [76.0633557 ],\n",
       "       [75.55234953],\n",
       "       [78.39149579],\n",
       "       [81.47135851],\n",
       "       [76.4083015 ],\n",
       "       [75.45513083],\n",
       "       [75.9289861 ],\n",
       "       [75.59043705],\n",
       "       [77.754582  ],\n",
       "       [76.29580759],\n",
       "       [77.19581205],\n",
       "       [79.79791168],\n",
       "       [76.9721683 ],\n",
       "       [75.65689167],\n",
       "       [76.2079199 ],\n",
       "       [79.88138493],\n",
       "       [76.79125189],\n",
       "       [76.25479213],\n",
       "       [78.56881808],\n",
       "       [76.86645607],\n",
       "       [78.296876  ],\n",
       "       [75.69214681],\n",
       "       [77.04442922],\n",
       "       [79.23602087],\n",
       "       [75.72537457],\n",
       "       [79.32651739],\n",
       "       [77.58440196],\n",
       "       [78.70631665]])"
      ]
     },
     "execution_count": 14,
     "metadata": {},
     "output_type": "execute_result"
    }
   ],
   "source": [
    "x_test = test['Spending_USD'].values.reshape(-1,1)\n",
    "pre_LE = train_HEmodel.predict(x_test)\n",
    "pre_LE"
   ]
  },
  {
   "cell_type": "code",
   "execution_count": 15,
   "id": "284b75ac",
   "metadata": {},
   "outputs": [
    {
     "data": {
      "text/html": [
       "<div>\n",
       "<style scoped>\n",
       "    .dataframe tbody tr th:only-of-type {\n",
       "        vertical-align: middle;\n",
       "    }\n",
       "\n",
       "    .dataframe tbody tr th {\n",
       "        vertical-align: top;\n",
       "    }\n",
       "\n",
       "    .dataframe thead th {\n",
       "        text-align: right;\n",
       "    }\n",
       "</style>\n",
       "<table border=\"1\" class=\"dataframe\">\n",
       "  <thead>\n",
       "    <tr style=\"text-align: right;\">\n",
       "      <th></th>\n",
       "      <th>Year</th>\n",
       "      <th>Country</th>\n",
       "      <th>Spending_USD</th>\n",
       "      <th>Life_Expectancy</th>\n",
       "      <th>Pre_LE</th>\n",
       "      <th>Error</th>\n",
       "    </tr>\n",
       "  </thead>\n",
       "  <tbody>\n",
       "    <tr>\n",
       "      <th>267</th>\n",
       "      <td>2019</td>\n",
       "      <td>USA</td>\n",
       "      <td>10855.517</td>\n",
       "      <td>78.8</td>\n",
       "      <td>85.119978</td>\n",
       "      <td>-6.319978</td>\n",
       "    </tr>\n",
       "    <tr>\n",
       "      <th>154</th>\n",
       "      <td>2001</td>\n",
       "      <td>Canada</td>\n",
       "      <td>2624.293</td>\n",
       "      <td>79.3</td>\n",
       "      <td>77.699872</td>\n",
       "      <td>1.600128</td>\n",
       "    </tr>\n",
       "    <tr>\n",
       "      <th>238</th>\n",
       "      <td>2015</td>\n",
       "      <td>Canada</td>\n",
       "      <td>4635.285</td>\n",
       "      <td>81.9</td>\n",
       "      <td>79.512697</td>\n",
       "      <td>2.387303</td>\n",
       "    </tr>\n",
       "    <tr>\n",
       "      <th>142</th>\n",
       "      <td>1999</td>\n",
       "      <td>Canada</td>\n",
       "      <td>2278.254</td>\n",
       "      <td>78.8</td>\n",
       "      <td>77.387932</td>\n",
       "      <td>1.412068</td>\n",
       "    </tr>\n",
       "    <tr>\n",
       "      <th>153</th>\n",
       "      <td>2000</td>\n",
       "      <td>USA</td>\n",
       "      <td>4536.561</td>\n",
       "      <td>76.7</td>\n",
       "      <td>79.423702</td>\n",
       "      <td>-2.723702</td>\n",
       "    </tr>\n",
       "    <tr>\n",
       "      <th>...</th>\n",
       "      <td>...</td>\n",
       "      <td>...</td>\n",
       "      <td>...</td>\n",
       "      <td>...</td>\n",
       "      <td>...</td>\n",
       "      <td>...</td>\n",
       "    </tr>\n",
       "    <tr>\n",
       "      <th>236</th>\n",
       "      <td>2014</td>\n",
       "      <td>Japan</td>\n",
       "      <td>4328.364</td>\n",
       "      <td>83.7</td>\n",
       "      <td>79.236021</td>\n",
       "      <td>4.463979</td>\n",
       "    </tr>\n",
       "    <tr>\n",
       "      <th>45</th>\n",
       "      <td>1981</td>\n",
       "      <td>Great Britain</td>\n",
       "      <td>433.957</td>\n",
       "      <td>73.8</td>\n",
       "      <td>75.725375</td>\n",
       "      <td>-1.925375</td>\n",
       "    </tr>\n",
       "    <tr>\n",
       "      <th>226</th>\n",
       "      <td>2013</td>\n",
       "      <td>Canada</td>\n",
       "      <td>4428.753</td>\n",
       "      <td>81.7</td>\n",
       "      <td>79.326517</td>\n",
       "      <td>2.373483</td>\n",
       "    </tr>\n",
       "    <tr>\n",
       "      <th>131</th>\n",
       "      <td>1997</td>\n",
       "      <td>Germany</td>\n",
       "      <td>2496.201</td>\n",
       "      <td>77.3</td>\n",
       "      <td>77.584402</td>\n",
       "      <td>-0.284402</td>\n",
       "    </tr>\n",
       "    <tr>\n",
       "      <th>218</th>\n",
       "      <td>2011</td>\n",
       "      <td>Japan</td>\n",
       "      <td>3740.756</td>\n",
       "      <td>82.7</td>\n",
       "      <td>78.706317</td>\n",
       "      <td>3.993683</td>\n",
       "    </tr>\n",
       "  </tbody>\n",
       "</table>\n",
       "<p>83 rows × 6 columns</p>\n",
       "</div>"
      ],
      "text/plain": [
       "     Year        Country  Spending_USD  Life_Expectancy     Pre_LE     Error\n",
       "267  2019            USA     10855.517             78.8  85.119978 -6.319978\n",
       "154  2001         Canada      2624.293             79.3  77.699872  1.600128\n",
       "238  2015         Canada      4635.285             81.9  79.512697  2.387303\n",
       "142  1999         Canada      2278.254             78.8  77.387932  1.412068\n",
       "153  2000            USA      4536.561             76.7  79.423702 -2.723702\n",
       "..    ...            ...           ...              ...        ...       ...\n",
       "236  2014          Japan      4328.364             83.7  79.236021  4.463979\n",
       "45   1981  Great Britain       433.957             73.8  75.725375 -1.925375\n",
       "226  2013         Canada      4428.753             81.7  79.326517  2.373483\n",
       "131  1997        Germany      2496.201             77.3  77.584402 -0.284402\n",
       "218  2011          Japan      3740.756             82.7  78.706317  3.993683\n",
       "\n",
       "[83 rows x 6 columns]"
      ]
     },
     "execution_count": 15,
     "metadata": {},
     "output_type": "execute_result"
    }
   ],
   "source": [
    "test['Pre_LE'] = pre_LE\n",
    "test['Error'] = test['Life_Expectancy'] - test['Pre_LE']\n",
    "test"
   ]
  },
  {
   "cell_type": "code",
   "execution_count": 16,
   "id": "8e534da8",
   "metadata": {},
   "outputs": [
    {
     "data": {
      "text/plain": [
       "<Axes: xlabel='Spending_USD', ylabel='Pre_LE'>"
      ]
     },
     "execution_count": 16,
     "metadata": {},
     "output_type": "execute_result"
    },
    {
     "data": {
      "image/png": "[encoded data removed]",
      "text/plain": [
       "<Figure size 640x480 with 1 Axes>"
      ]
     },
     "metadata": {},
     "output_type": "display_data"
    }
   ],
   "source": [
    "sns.regplot(x = 'Spending_USD', y = 'Pre_LE', data = test)"
   ]
  },
  {
   "cell_type": "code",
   "execution_count": 17,
   "id": "513b0982",
   "metadata": {},
   "outputs": [
    {
     "data": {
      "text/plain": [
       "<Axes: xlabel='Spending_USD', ylabel='Life_Expectancy'>"
      ]
     },
     "execution_count": 17,
     "metadata": {},
     "output_type": "execute_result"
    },
    {
     "data": {
      "image/png": "[encoded data removed]",
      "text/plain": [
       "<Figure size 640x480 with 1 Axes>"
      ]
     },
     "metadata": {},
     "output_type": "display_data"
    }
   ],
   "source": [
    "sns.regplot(x = 'Spending_USD', y = 'Life_Expectancy', data = train)"
   ]
  }
 ],
 "metadata": {
  "kernelspec": {
   "display_name": "Python 3 (ipykernel)",
   "language": "python",
   "name": "python3"
  },
  "language_info": {
   "codemirror_mode": {
    "name": "ipython",
    "version": 3
   },
   "file_extension": ".py",
   "mimetype": "text/x-python",
   "name": "python",
   "nbconvert_exporter": "python",
   "pygments_lexer": "ipython3",
   "version": "3.10.9"
  }
 },
 "nbformat": 4,
 "nbformat_minor": 5
}
